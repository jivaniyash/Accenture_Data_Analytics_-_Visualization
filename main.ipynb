{
 "cells": [
  {
   "cell_type": "code",
   "execution_count": 1,
   "metadata": {},
   "outputs": [],
   "source": [
    "import pandas as pd \n",
    "import matplotlib.pyplot as plt\n"
   ]
  },
  {
   "cell_type": "code",
   "execution_count": null,
   "metadata": {},
   "outputs": [],
   "source": [
    "# Creating df object for Content.csv file\n",
    "content_df = pd.read_csv('Content.csv')\n",
    "\n",
    "# Selecting only required columns\n",
    "content_df = content_df.iloc[:,[1,3,4]]\n",
    "\n",
    "# Dropping whole rows which have NAN in any 1 of the column\n",
    "content_df.dropna(inplace=True)\n",
    "\n",
    "# Renaming 'Type' column to 'Content_Type' \n",
    "content_df.rename(columns={'Type':'Content_Type'},inplace=True)\n",
    "\n",
    "# Removing \" (inverted-commas) & making all Category into lower_case to eliminate repition \n",
    "# from Category column\n",
    "content_df['Category'] = content_df['Category'].str.strip('\"').str.lower()\n",
    "\n",
    "content_df"
   ]
  },
  {
   "cell_type": "code",
   "execution_count": null,
   "metadata": {},
   "outputs": [],
   "source": [
    "# Creating df object for Reactions.csv file\n",
    "reactions_df = pd.read_csv('Reactions.csv')\n",
    "\n",
    "# Selecting only required columns\n",
    "reactions_df = reactions_df.iloc[:,[1,3,4]]\n",
    "\n",
    "# Dropping whole rows which have NAN in any 1 of the column\n",
    "reactions_df.dropna(inplace=True)\n",
    "\n",
    "# Renaming 'Type' column to 'Reaction_Type' \n",
    "reactions_df.rename(columns={'Type':'Reaction_Type'},inplace='True')\n",
    "\n",
    "reactions_df"
   ]
  },
  {
   "cell_type": "code",
   "execution_count": null,
   "metadata": {},
   "outputs": [],
   "source": [
    "# Creating df object for ReactionTypes.csv file\n",
    "reactionTypes_df = pd.read_csv('ReactionTypes.csv')\n",
    "\n",
    "# Selecting only required columns\n",
    "reactionTypes_df = reactionTypes_df.iloc[:,1:]\n",
    "\n",
    "# Renaming 'Type' column to 'Reaction_Type' \n",
    "reactionTypes_df.rename(columns={'Type':'Reaction_Type'},inplace=True)\n",
    "\n",
    "reactionTypes_df"
   ]
  },
  {
   "cell_type": "code",
   "execution_count": null,
   "metadata": {},
   "outputs": [],
   "source": [
    "#merge reactions df with content df matching Content ID\n",
    "merged_df = pd.merge(reactions_df,content_df)\n",
    "\n",
    "# now merging merged_df with reactionTypes df matching Reaction Type\n",
    "merged_df = merged_df.merge(reactionTypes_df)\n",
    "\n",
    "# Group by category and sum their respective scores and sort descending & select top five categories \n",
    "merged_df.groupby(by='Category')['Score'].sum().sort_values(ascending=False)[:5]\n",
    "\n",
    "\n",
    "# My Solution\n",
    "# Category\n",
    "# animals           74965\n",
    "# science           71168\n",
    "# healthy eating    69339\n",
    "# technology        68738\n",
    "# food              66676"
   ]
  },
  {
   "cell_type": "code",
   "execution_count": null,
   "metadata": {},
   "outputs": [],
   "source": [
    "#  What is aggregate scores of all Content Categories?\n",
    "\n",
    "# df is panda series with indexes as Category and array of aggregate scores \n",
    "df = merged_df.groupby(by='Category')['Score'].sum()\n",
    "\n",
    "# sorted_df is df series with top 5 categories \n",
    "top5_df  = df.sort_values(ascending=False)[:5]\n",
    "\n",
    "# list of colors: top 5 is red and remaining blue \n",
    "bar_colors = ['red' if category in top5_df.index else 'blue' for category in df.index]\n",
    "plt.bar(df.index, df, color=bar_colors)\n",
    "plt.xticks(rotation=90)\n",
    "plt.xlabel(df.index.name)\n",
    "plt.ylabel('Aggregate Scores')\n",
    "plt.title('Content_Category vs Scores')\n",
    "plt.show()"
   ]
  },
  {
   "cell_type": "code",
   "execution_count": 40,
   "metadata": {},
   "outputs": [],
   "source": [
    "# How is the trend of Content popularity by time duration?\n",
    "merged_df['Datetime'] = pd.to_datetime(merged_df['Datetime'])\n"
   ]
  },
  {
   "cell_type": "code",
   "execution_count": null,
   "metadata": {},
   "outputs": [],
   "source": [
    "# Month with the highest Scores\n",
    "merged_df.groupby([merged_df['Datetime'].dt.to_period('m')])['Score'].sum().plot()\n",
    "plt.xlabel('Month')\n",
    "plt.ylabel('Aggregate Scores')\n",
    "plt.title('Scores of each month')\n",
    "\n",
    "# May"
   ]
  },
  {
   "cell_type": "code",
   "execution_count": null,
   "metadata": {},
   "outputs": [],
   "source": [
    "# Which Content type is mostly used by the users?\n",
    "\n",
    "# df is panda series with indexes as Content_Type and array of aggregate scores \n",
    "df1 = merged_df.groupby(by='Content_Type')['Score'].sum()\n",
    "\n",
    "plt.bar(df1.index, df1)\n",
    "plt.xlabel(df1.index.name)\n",
    "plt.ylabel('Aggregate Scores')\n",
    "plt.title('Content_Type vs Scores')\n",
    "plt.show()\n"
   ]
  },
  {
   "cell_type": "code",
   "execution_count": null,
   "metadata": {},
   "outputs": [],
   "source": [
    "fig,ax = plt.subplots()\n",
    "d = merged_df.query('Category == \"animals\"').groupby(by='Content_Type')['Score'].sum()\n",
    "plt.pie(d,labels=d.index,autopct='%1.1f%%')\n",
    "plt.title('Content_Type % of \"animals\" Category')"
   ]
  }
 ],
 "metadata": {
  "kernelspec": {
   "display_name": ".venv",
   "language": "python",
   "name": "python3"
  },
  "language_info": {
   "codemirror_mode": {
    "name": "ipython",
    "version": 3
   },
   "file_extension": ".py",
   "mimetype": "text/x-python",
   "name": "python",
   "nbconvert_exporter": "python",
   "pygments_lexer": "ipython3",
   "version": "3.10.9 (tags/v3.10.9:1dd9be6, Dec  6 2022, 20:01:21) [MSC v.1934 64 bit (AMD64)]"
  },
  "orig_nbformat": 4,
  "vscode": {
   "interpreter": {
    "hash": "5eb6adbde91ae16a4de9549ce112e7ae9246d0d423944e5515fb604d0c9f9e78"
   }
  }
 },
 "nbformat": 4,
 "nbformat_minor": 2
}
